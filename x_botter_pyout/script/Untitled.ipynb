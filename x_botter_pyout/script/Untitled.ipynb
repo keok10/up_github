{
 "cells": [
  {
   "cell_type": "code",
   "execution_count": 1,
   "id": "0cdca0e6-5a65-4258-b3bd-076e84fcb5e2",
   "metadata": {
    "tags": []
   },
   "outputs": [
    {
     "name": "stdout",
     "output_type": "stream",
     "text": [
      "kyama_co\n",
      "Ok199010207563\n"
     ]
    }
   ],
   "source": [
    "from dotenv import load_dotenv\n",
    "import os\n",
    "\n",
    "# .envファイルを読み込む\n",
    "load_dotenv()\n",
    "\n",
    "# 環境変数を取得\n",
    "twitter_username = os.getenv('TWITTER_USERNAME')\n",
    "twitter_password = os.getenv('TWITTER_PASSWORD')\n",
    "\n",
    "# 環境変数の値を使用（例：プリント）\n",
    "print(twitter_username)\n",
    "print(twitter_password)\n"
   ]
  },
  {
   "cell_type": "code",
   "execution_count": 2,
   "id": "304cc806-6d5d-4572-b61a-4458f1115cf7",
   "metadata": {},
   "outputs": [
    {
     "data": {
      "text/plain": [
       "'/Users/kenjiokabe/x_botter_pyout/script'"
      ]
     },
     "execution_count": 2,
     "metadata": {},
     "output_type": "execute_result"
    }
   ],
   "source": [
    "%pwd\n"
   ]
  },
  {
   "cell_type": "code",
   "execution_count": null,
   "id": "5ac47aab-12e1-4c33-83bc-b6ad47f91b1b",
   "metadata": {},
   "outputs": [],
   "source": []
  }
 ],
 "metadata": {
  "kernelspec": {
   "display_name": "Python 3 (ipykernel)",
   "language": "python",
   "name": "python3"
  },
  "language_info": {
   "codemirror_mode": {
    "name": "ipython",
    "version": 3
   },
   "file_extension": ".py",
   "mimetype": "text/x-python",
   "name": "python",
   "nbconvert_exporter": "python",
   "pygments_lexer": "ipython3",
   "version": "3.10.12"
  }
 },
 "nbformat": 4,
 "nbformat_minor": 5
}
